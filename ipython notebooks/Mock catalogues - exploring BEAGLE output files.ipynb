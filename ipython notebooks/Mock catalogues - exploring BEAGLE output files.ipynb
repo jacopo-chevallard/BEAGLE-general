{
 "cells": [
  {
   "cell_type": "code",
   "execution_count": 22,
   "metadata": {
    "collapsed": false
   },
   "outputs": [
    {
     "name": "stdout",
     "output_type": "stream",
     "text": [
      "Populating the interactive namespace from numpy and matplotlib\n"
     ]
    }
   ],
   "source": [
    "%pylab inline\n",
    "from astropy.io import fits"
   ]
  },
  {
   "cell_type": "markdown",
   "metadata": {},
   "source": [
    "This notebook is for:\n",
    "* displaying the format of BEAGLE files produced for mock catalogue creation using BEAGLE_mock_catalogue_from_file.param"
   ]
  },
  {
   "cell_type": "code",
   "execution_count": 23,
   "metadata": {
    "collapsed": true
   },
   "outputs": [],
   "source": [
    "fileName = \"catalogue.fits\""
   ]
  },
  {
   "cell_type": "markdown",
   "metadata": {},
   "source": [
    "Each BEAGLE .fits.gz file contains different extensions containing different properties of each object.  Each row contains information for a different object, and the same row will contain information for the same object across the different extensions."
   ]
  },
  {
   "cell_type": "code",
   "execution_count": 24,
   "metadata": {
    "collapsed": true
   },
   "outputs": [],
   "source": [
    "catalogue = fits.open(fileName)"
   ]
  },
  {
   "cell_type": "code",
   "execution_count": 25,
   "metadata": {
    "collapsed": false
   },
   "outputs": [
    {
     "name": "stdout",
     "output_type": "stream",
     "text": [
      "Filename: catalogue.fits\n",
      "No.    Name         Type      Cards   Dimensions   Format\n",
      "0    PRIMARY     PrimaryHDU       6   ()              \n",
      "1    GALAXY PROPERTIES  BinTableHDU     47   3R x 14C     [1E, 1E, 1E, 1E, 1E, 1E, 1E, 1E, 1E, 1E, 1E, 1E, 1E, 1E]   \n",
      "2    STAR FORMATION  BinTableHDU     22   3R x 5C      [1E, 1E, 1E, 1E, 1E]   \n",
      "3    STAR FORMATION BINS  BinTableHDU     28   3R x 7C      [1E, 1E, 1E, 1E, 1E, 1E, 1E]   \n",
      "4    DUST ATTENUATION  BinTableHDU     31   3R x 9C      [1E, 1E, 1E, 1E, 1E, 1E, 1E, 1E, 1E]   \n",
      "5    NEBULAR EMISSION  BinTableHDU    407   3R x 134C    [1E, 1E, 1E, 1E, 1E, 1E, 1E, 1E, 1E, 1E, 1E, 1E, 1E, 1E, 1E, 1E, 1E, 1E, 1E, 1E, 1E, 1E, 1E, 1E, 1E, 1E, 1E, 1E, 1E, 1E, 1E, 1E, 1E, 1E, 1E, 1E, 1E, 1E, 1E, 1E, 1E, 1E, 1E, 1E, 1E, 1E, 1E, 1E, 1E, 1E, 1E, 1E, 1E, 1E, 1E, 1E, 1E, 1E, 1E, 1E, 1E, 1E, 1E, 1E, 1E, 1E, 1E, 1E, 1E, 1E, 1E, 1E, 1E, 1E, 1E, 1E, 1E, 1E, 1E, 1E, 1E, 1E, 1E, 1E, 1E, 1E, 1E, 1E, 1E, 1E, 1E, 1E, 1E, 1E, 1E, 1E, 1E, 1E, 1E, 1E, 1E, 1E, 1E, 1E, 1E, 1E, 1E, 1E, 1E, 1E, 1E, 1E, 1E, 1E, 1E, 1E, 1E, 1E, 1E, 1E, 1E, 1E, 1E, 1E, 1E, 1E, 1E, 1E, 1E, 1E, 1E, 1E, 1E, 1E]   \n",
      "6    FULL SED WL  BinTableHDU     12   1R x 1C      [11742E]   \n",
      "7    FULL SED    ImageHDU         9   (11742, 3)   float32   \n",
      "8    ABSOLUTE MAGNITUDES  BinTableHDU     93   3R x 28C     [1E, 1E, 1E, 1E, 1E, 1E, 1E, 1E, 1E, 1E, 1E, 1E, 1E, 1E, 1E, 1E, 1E, 1E, 1E, 1E, 1E, 1E, 1E, 1E, 1E, 1E, 1E, 1E]   \n",
      "9    APPARENT MAGNITUDES  BinTableHDU     93   3R x 28C     [1E, 1E, 1E, 1E, 1E, 1E, 1E, 1E, 1E, 1E, 1E, 1E, 1E, 1E, 1E, 1E, 1E, 1E, 1E, 1E, 1E, 1E, 1E, 1E, 1E, 1E, 1E, 1E]   \n",
      "None\n"
     ]
    }
   ],
   "source": [
    "print catalogue.info()"
   ]
  },
  {
   "cell_type": "markdown",
   "metadata": {},
   "source": [
    "It is also possible to view the different extensions and their content in fv (see http://heasarc.gsfc.nasa.gov/docs/software/ftools/fv/ for downloads).\n",
    "\n",
    "<img src=\"extensions_fv.png\" style=\"width: 800px;\">"
   ]
  },
  {
   "cell_type": "markdown",
   "metadata": {},
   "source": [
    "If you have chosen to print out the spectra in the BEAGLE param file, there will be an extension containing the full sed.  One can view the spectra as so:"
   ]
  },
  {
   "cell_type": "code",
   "execution_count": 44,
   "metadata": {
    "collapsed": false
   },
   "outputs": [],
   "source": [
    "wl = catalogue['FULL SED WL'].data[0][0]\n",
    "obj = 0\n",
    "spec = catalogue['FULL SED'].data[obj,:]"
   ]
  },
  {
   "cell_type": "code",
   "execution_count": 45,
   "metadata": {
    "collapsed": false
   },
   "outputs": [
    {
     "data": {
      "text/plain": [
       "<matplotlib.text.Text at 0x108ae7b50>"
      ]
     },
     "execution_count": 45,
     "metadata": {},
     "output_type": "execute_result"
    },
    {
     "data": {
      "image/png": "[encoded data removed]",
      "text/plain": [
       "<matplotlib.figure.Figure at 0x108914b50>"
      ]
     },
     "metadata": {},
     "output_type": "display_data"
    }
   ],
   "source": [
    "pylab.plot(wl, log10(spec))\n",
    "\n",
    "ax=plt.gca()\n",
    "ax.set_xlim(0,10000)\n",
    "\n",
    "pylab.xlabel('$\\lambda_{\\\\textnormal{rest}}$ $\\\\textnormal{\\AA}$', fontsize=14)\n",
    "pylab.ylabel('log$_{10}$($f_{\\lambda} /\\\\textnormal{erg} \\\\textnormal{s}^{-1} \\\\textnormal{cm}^{-2} \\\\textnormal{\\AA}^{-1}$)', \\\n",
    "             fontsize=14)"
   ]
  },
  {
   "cell_type": "markdown",
   "metadata": {},
   "source": [
    "If you have enough objects in the catalogue, viewing the spectra as an image can be useful.  \n",
    "\n",
    "Again, this can be viewed easily using fv:\n",
    "\n",
    "<img src=spectra_fv.png style=\"width: 800px;\">"
   ]
  },
  {
   "cell_type": "markdown",
   "metadata": {},
   "source": [
    "Our catalogue doesn't have that many objects, but here's how you would show them all in an image view using python."
   ]
  },
  {
   "cell_type": "code",
   "execution_count": 46,
   "metadata": {
    "collapsed": false
   },
   "outputs": [
    {
     "data": {
      "text/plain": [
       "<matplotlib.image.AxesImage at 0x108e65710>"
      ]
     },
     "execution_count": 46,
     "metadata": {},
     "output_type": "execute_result"
    },
    {
     "data": {
      "image/png": "[encoded data removed]",
      "text/plain": [
       "<matplotlib.figure.Figure at 0x10897aa90>"
      ]
     },
     "metadata": {},
     "output_type": "display_data"
    }
   ],
   "source": [
    "plt.imshow(catalogue['FULL SED'].data, aspect=10)"
   ]
  },
  {
   "cell_type": "code",
   "execution_count": null,
   "metadata": {
    "collapsed": true
   },
   "outputs": [],
   "source": []
  }
 ],
 "metadata": {
  "kernelspec": {
   "display_name": "Python 2",
   "language": "python",
   "name": "python2"
  },
  "language_info": {
   "codemirror_mode": {
    "name": "ipython",
    "version": 2
   },
   "file_extension": ".py",
   "mimetype": "text/x-python",
   "name": "python",
   "nbconvert_exporter": "python",
   "pygments_lexer": "ipython2",
   "version": "2.7.11"
  }
 },
 "nbformat": 4,
 "nbformat_minor": 0
}
